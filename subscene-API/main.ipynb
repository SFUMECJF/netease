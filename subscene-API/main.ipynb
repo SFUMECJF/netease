{
 "cells": [
  {
   "cell_type": "code",
   "execution_count": 26,
   "metadata": {
    "collapsed": true
   },
   "outputs": [
    {
     "data": {
      "text/plain": "0                                                 Avatar \n1               Pirates of the Caribbean: At World's End \n2                                                Spectre \n3                                  The Dark Knight Rises \n4       Star Wars: Episode VII - The Force Awakens    ...\n                              ...                        \n5038                             Signed Sealed Delivered \n5039                           The Following             \n5040                                A Plague So Pleasant \n5041                                    Shanghai Calling \n5042                                   My Date with Drew \nName: movie_title, Length: 5043, dtype: object"
     },
     "execution_count": 26,
     "metadata": {},
     "output_type": "execute_result"
    }
   ],
   "source": [
    "import pandas as pd\n",
    "from subsceneAPI import subtitle\n",
    "import tqdm\n",
    "from tqdm import trange\n",
    "\n",
    "\n",
    "movies = pd.read_csv(\"movie_metadata.csv\")\n",
    "movie_titles = movies[\"movie_title\"]\n",
    "movie_titles"
   ]
  },
  {
   "cell_type": "code",
   "execution_count": 27,
   "outputs": [
    {
     "data": {
      "text/plain": "0       2009.0\n1       2007.0\n2       2015.0\n3       2012.0\n4          NaN\n         ...  \n5038    2013.0\n5039       NaN\n5040    2013.0\n5041    2012.0\n5042    2004.0\nName: title_year, Length: 5043, dtype: float64"
     },
     "execution_count": 27,
     "metadata": {},
     "output_type": "execute_result"
    }
   ],
   "source": [
    "movie_years = movies[\"title_year\"]\n",
    "print(movie_years)"
   ],
   "metadata": {
    "collapsed": false,
    "pycharm": {
     "name": "#%%\n"
    }
   }
  },
  {
   "cell_type": "code",
   "execution_count": 28,
   "outputs": [],
   "source": [
    "# result = pd.DataFrame(movie_titles)\n",
    "# result\n",
    "korean_url = [None]*5043\n",
    "japanese_url = [None]*5043"
   ],
   "metadata": {
    "collapsed": false,
    "pycharm": {
     "name": "#%%\n"
    }
   }
  },
  {
   "cell_type": "code",
   "execution_count": 29,
   "outputs": [
    {
     "name": "stderr",
     "output_type": "stream",
     "text": [
      "  0%|          | 1/5043 [00:15<21:59:16, 15.70s/it]\n"
     ]
    },
    {
     "name": "stdout",
     "output_type": "stream",
     "text": [
      "('Avatar.2009.EXTENDED.1080p.BluRay.x264-BestHD ', 'https://www.subscene.com/subtitles/korean-text/JRPU0FAsRtvh-xLr70GeNBk_9jb-5WiAScq3l8Y15RKboRRg5Lu9-ioyuyrUdF8G09saot3tzVAKQG2fwJp1QVjyITLXU8pU6Y4XVCSW0MnFbHbib6ESff5Z8J2sDKWe0')\n",
      "('Avatar DVDCustom NTSC Dual AudioDEN v4 ', 'https://www.subscene.com/subtitles/japanese-text/mNrwNI38otEMhSJTbR-fRTdcpEM0GpQKHwWVrNjUoYt_VL4HQeT9hR2MQLZLQbvLY2PQ_rXIlZEBFUtl8mDZMHkFHoqGm--NOuo8TlNCUOnMuJPY3mNtJ9Qypw9h_8770')\n"
     ]
    },
    {
     "ename": "Exception",
     "evalue": "\nerror : !!!!!!Result not found!!!!\n make sure you have entered correct 'title' and 'year'",
     "output_type": "error",
     "traceback": [
      "\u001B[1;31m---------------------------------------------------------------------------\u001B[0m",
      "\u001B[1;31mException\u001B[0m                                 Traceback (most recent call last)",
      "\u001B[1;32m<ipython-input-29-fbb49af96c88>\u001B[0m in \u001B[0;36m<module>\u001B[1;34m\u001B[0m\n\u001B[0;32m      3\u001B[0m         \u001B[1;32mcontinue\u001B[0m\u001B[1;33m\u001B[0m\u001B[1;33m\u001B[0m\u001B[0m\n\u001B[0;32m      4\u001B[0m \u001B[1;33m\u001B[0m\u001B[0m\n\u001B[1;32m----> 5\u001B[1;33m     \u001B[0msub\u001B[0m \u001B[1;33m=\u001B[0m \u001B[0msubtitle\u001B[0m\u001B[1;33m.\u001B[0m\u001B[0msearch\u001B[0m\u001B[1;33m(\u001B[0m\u001B[0mtitle\u001B[0m\u001B[1;33m=\u001B[0m\u001B[0mstr\u001B[0m\u001B[1;33m(\u001B[0m\u001B[0mmovie_titles\u001B[0m\u001B[1;33m[\u001B[0m\u001B[0mi\u001B[0m\u001B[1;33m]\u001B[0m\u001B[1;33m)\u001B[0m\u001B[1;33m,\u001B[0m\u001B[0myear\u001B[0m\u001B[1;33m=\u001B[0m\u001B[0mstr\u001B[0m\u001B[1;33m(\u001B[0m\u001B[0mint\u001B[0m\u001B[1;33m(\u001B[0m\u001B[0mmovie_years\u001B[0m\u001B[1;33m[\u001B[0m\u001B[0mi\u001B[0m\u001B[1;33m]\u001B[0m\u001B[1;33m)\u001B[0m\u001B[1;33m)\u001B[0m\u001B[1;33m,\u001B[0m\u001B[0mlanguage\u001B[0m\u001B[1;33m=\u001B[0m\u001B[1;34m\"korean\"\u001B[0m\u001B[1;33m,\u001B[0m\u001B[0mlimit\u001B[0m\u001B[1;33m=\u001B[0m\u001B[1;34m\"2\"\u001B[0m\u001B[1;33m)\u001B[0m\u001B[1;33m\u001B[0m\u001B[1;33m\u001B[0m\u001B[0m\n\u001B[0m\u001B[0;32m      6\u001B[0m     \u001B[1;32mif\u001B[0m \u001B[0mlen\u001B[0m\u001B[1;33m(\u001B[0m\u001B[0msub\u001B[0m\u001B[1;33m.\u001B[0m\u001B[0mZIPlinks\u001B[0m\u001B[1;33m)\u001B[0m \u001B[1;33m!=\u001B[0m \u001B[1;36m0\u001B[0m\u001B[1;33m:\u001B[0m\u001B[1;33m\u001B[0m\u001B[1;33m\u001B[0m\u001B[0m\n\u001B[0;32m      7\u001B[0m         \u001B[0mkorean_url\u001B[0m\u001B[1;33m[\u001B[0m\u001B[0mi\u001B[0m\u001B[1;33m]\u001B[0m \u001B[1;33m=\u001B[0m \u001B[0msub\u001B[0m\u001B[1;33m.\u001B[0m\u001B[0mZIPlinks\u001B[0m\u001B[1;33m[\u001B[0m\u001B[1;36m0\u001B[0m\u001B[1;33m]\u001B[0m\u001B[1;33m\u001B[0m\u001B[1;33m\u001B[0m\u001B[0m\n",
      "\u001B[1;32mD:\\workspace\\github_repos\\netease\\subscene-API\\subsceneAPI\\subtitle.py\u001B[0m in \u001B[0;36msearch\u001B[1;34m(title, year, language, domain, limit)\u001B[0m\n\u001B[0;32m    135\u001B[0m                                                         \u001B[0mprint\u001B[0m\u001B[1;33m(\u001B[0m\u001B[1;34m\"value Error :\"\u001B[0m \u001B[1;33m+\u001B[0m \u001B[0mrepr\u001B[0m\u001B[1;33m(\u001B[0m\u001B[0me\u001B[0m\u001B[1;33m)\u001B[0m\u001B[1;33m)\u001B[0m\u001B[1;33m\u001B[0m\u001B[1;33m\u001B[0m\u001B[0m\n\u001B[0;32m    136\u001B[0m \u001B[1;33m\u001B[0m\u001B[0m\n\u001B[1;32m--> 137\u001B[1;33m                                 \u001B[0margs\u001B[0m \u001B[1;33m=\u001B[0m \u001B[1;33m{\u001B[0m\u001B[1;34m'title'\u001B[0m\u001B[1;33m:\u001B[0m\u001B[0mtitle\u001B[0m\u001B[1;33m,\u001B[0m\u001B[1;34m'year'\u001B[0m\u001B[1;33m:\u001B[0m\u001B[0myear\u001B[0m\u001B[1;33m,\u001B[0m\u001B[1;34m'language'\u001B[0m\u001B[1;33m:\u001B[0m\u001B[0mlanguage\u001B[0m\u001B[1;33m,\u001B[0m\u001B[1;34m'domain'\u001B[0m\u001B[1;33m:\u001B[0m\u001B[0mdomain\u001B[0m\u001B[1;33m,\u001B[0m\u001B[1;34m'limit'\u001B[0m\u001B[1;33m:\u001B[0m\u001B[0mlimit\u001B[0m\u001B[1;33m}\u001B[0m\u001B[1;33m\u001B[0m\u001B[1;33m\u001B[0m\u001B[0m\n\u001B[0m\u001B[0;32m    138\u001B[0m                                 \u001B[1;32mreturn\u001B[0m \u001B[0mSubscene\u001B[0m\u001B[1;33m(\u001B[0m\u001B[1;33m**\u001B[0m\u001B[0margs\u001B[0m\u001B[1;33m)\u001B[0m\u001B[1;33m\u001B[0m\u001B[1;33m\u001B[0m\u001B[0m\n\u001B[0;32m    139\u001B[0m \u001B[1;33m\u001B[0m\u001B[0m\n",
      "\u001B[1;32mD:\\workspace\\github_repos\\netease\\subscene-API\\subsceneAPI\\subtitle.py\u001B[0m in \u001B[0;36m__init__\u001B[1;34m(self, **kwargs)\u001B[0m\n\u001B[0;32m     13\u001B[0m                                 \u001B[1;34m\"user-agent\"\u001B[0m \u001B[1;33m:\u001B[0m \u001B[1;34m\"Mozilla/5.0 (X11; Linux x86_64) AppleWebKit/537.36 (KHTML, like Gecko) Chrome/51.0.2704.103 Safari/537.36\"\u001B[0m\u001B[1;33m\u001B[0m\u001B[1;33m\u001B[0m\u001B[0m\n\u001B[0;32m     14\u001B[0m \t\t\t\t\t\t\t\t\t\t\t\t\t\t\t\t\t\t\t\t\t\t\t\t}\n\u001B[1;32m---> 15\u001B[1;33m                                                                 \u001B[0mself\u001B[0m\u001B[1;33m.\u001B[0m\u001B[0m__setup\u001B[0m\u001B[1;33m(\u001B[0m\u001B[1;33m)\u001B[0m\u001B[1;33m\u001B[0m\u001B[1;33m\u001B[0m\u001B[0m\n\u001B[0m\u001B[0;32m     16\u001B[0m \u001B[1;33m\u001B[0m\u001B[0m\n\u001B[0;32m     17\u001B[0m                                 \u001B[1;32mdef\u001B[0m \u001B[0m__str__\u001B[0m\u001B[1;33m(\u001B[0m\u001B[0mself\u001B[0m\u001B[1;33m)\u001B[0m\u001B[1;33m:\u001B[0m\u001B[1;33m\u001B[0m\u001B[1;33m\u001B[0m\u001B[0m\n",
      "\u001B[1;32mD:\\workspace\\github_repos\\netease\\subscene-API\\subsceneAPI\\subtitle.py\u001B[0m in \u001B[0;36m__setup\u001B[1;34m(self)\u001B[0m\n\u001B[0;32m     38\u001B[0m \u001B[1;33m\u001B[0m\u001B[0m\n\u001B[0;32m     39\u001B[0m                                                                 \u001B[1;32mif\u001B[0m \u001B[1;33m(\u001B[0m\u001B[0mself\u001B[0m\u001B[1;33m.\u001B[0m\u001B[0m__linkToSub\u001B[0m \u001B[1;33m==\u001B[0m \u001B[1;34m\"not-found\"\u001B[0m\u001B[1;33m)\u001B[0m\u001B[1;33m:\u001B[0m\u001B[1;33m\u001B[0m\u001B[1;33m\u001B[0m\u001B[0m\n\u001B[1;32m---> 40\u001B[1;33m                                                                         \u001B[0mprint\u001B[0m\u001B[1;33m(\u001B[0m\u001B[1;34m\"not found\"\u001B[0m\u001B[1;33m)\u001B[0m\u001B[1;33m\u001B[0m\u001B[1;33m\u001B[0m\u001B[0m\n\u001B[0m\u001B[0;32m     41\u001B[0m                                                                         \u001B[1;31m# raise Exception(\"\\nerror : !!!!!!Result not found!!!!\\n make sure you have entered correct 'title' and 'year'\")\u001B[0m\u001B[1;33m\u001B[0m\u001B[1;33m\u001B[0m\u001B[1;33m\u001B[0m\u001B[0m\n\u001B[0;32m     42\u001B[0m \u001B[1;33m\u001B[0m\u001B[0m\n",
      "\u001B[1;31mException\u001B[0m: \nerror : !!!!!!Result not found!!!!\n make sure you have entered correct 'title' and 'year'"
     ]
    }
   ],
   "source": [
    "def get_url_with_language():\n",
    "    "
   ],
   "metadata": {
    "collapsed": false,
    "pycharm": {
     "name": "#%%\n"
    }
   }
  },
  {
   "cell_type": "code",
   "execution_count": null,
   "outputs": [],
   "source": [
    "for i in trange(len(movie_titles)):\n",
    "    if movie_years[i] == None:\n",
    "        continue\n",
    "\n",
    "    sub = subtitle.search(title=str(movie_titles[i]),year=str(int(movie_years[i])),language=\"korean\",limit=\"2\")\n",
    "    if len(sub.ZIPlinks) != 0:\n",
    "        korean_url[i] = sub.ZIPlinks[0]\n",
    "        print(sub.ZIPlinks[0])\n",
    "    sub = subtitle.search(title=str(movie_titles[i]),year=str(int(movie_years[i])),language=\"japanese\",limit=\"2\")\n",
    "    if len(sub.ZIPlinks) != 0:\n",
    "        japanese_url[i] = sub.ZIPlinks[0]\n",
    "        print(sub.ZIPlinks[0])\n",
    "# sub = subtitle.search(title=\"extraction\",year=\"2020\",language=\"english\",limit=\"2\")\n",
    "# sub = subtitle.search(title=\"extraction\",year=\"2020\",language=\"korean\",limit=\"2\")\n",
    "# sub = subtitle.search(title=\"extraction\",year=\"2020\",language=\"japanese\",limit=\"2\")\n",
    "# print(sub.ZIPlinks) # or obj.showZIPlinks()\n",
    "# sub.downloadZIP()\n"
   ],
   "metadata": {
    "collapsed": false,
    "pycharm": {
     "name": "#%%\n"
    }
   }
  }
 ],
 "metadata": {
  "kernelspec": {
   "display_name": "Python 3",
   "language": "python",
   "name": "python3"
  },
  "language_info": {
   "codemirror_mode": {
    "name": "ipython",
    "version": 2
   },
   "file_extension": ".py",
   "mimetype": "text/x-python",
   "name": "python",
   "nbconvert_exporter": "python",
   "pygments_lexer": "ipython2",
   "version": "2.7.6"
  }
 },
 "nbformat": 4,
 "nbformat_minor": 0
}